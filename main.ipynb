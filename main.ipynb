{
 "cells": [
  {
   "cell_type": "code",
   "execution_count": 3,
   "metadata": {},
   "outputs": [],
   "source": [
    "import pandas as pd\n",
    "import matplotlib.pyplot as plt\n",
    "import numpy as np\n",
    "import seaborn as sns\n",
    "import plotly.graph_objects as go\n",
    "import plotly.express as px\n",
    "from plotly.subplots import make_subplots\n",
    "\n",
    "\n",
    "sns.set(style='whitegrid', font_scale=1.3)\n",
    "%matplotlib inline"
   ]
  },
  {
   "cell_type": "markdown",
   "metadata": {},
   "source": [
    "## Small intro\n",
    "In this notebook I try to solve binary classification problem. I want to create model with best params to predict wheteher job ad is real or fake. \n",
    "\n",
    "To achieve good result I preprocess initial text features and add new ones.\n",
    "\n",
    "Additionally, I want to find out most important features for my model."
   ]
  },
  {
   "cell_type": "markdown",
   "metadata": {},
   "source": [
    "# Exploratory analysis"
   ]
  },
  {
   "cell_type": "code",
   "execution_count": 152,
   "metadata": {},
   "outputs": [
    {
     "data": {
      "text/plain": [
       "(17880, 17)"
      ]
     },
     "execution_count": 152,
     "metadata": {},
     "output_type": "execute_result"
    }
   ],
   "source": [
    "data = pd.read_csv('fake_job_postings.csv', index_col='job_id')\n",
    "data.shape"
   ]
  },
  {
   "cell_type": "code",
   "execution_count": 153,
   "metadata": {},
   "outputs": [
    {
     "data": {
      "text/html": [
       "<div>\n",
       "<style scoped>\n",
       "    .dataframe tbody tr th:only-of-type {\n",
       "        vertical-align: middle;\n",
       "    }\n",
       "\n",
       "    .dataframe tbody tr th {\n",
       "        vertical-align: top;\n",
       "    }\n",
       "\n",
       "    .dataframe thead th {\n",
       "        text-align: right;\n",
       "    }\n",
       "</style>\n",
       "<table border=\"1\" class=\"dataframe\">\n",
       "  <thead>\n",
       "    <tr style=\"text-align: right;\">\n",
       "      <th></th>\n",
       "      <th>title</th>\n",
       "      <th>location</th>\n",
       "      <th>department</th>\n",
       "      <th>salary_range</th>\n",
       "      <th>company_profile</th>\n",
       "      <th>description</th>\n",
       "      <th>requirements</th>\n",
       "      <th>benefits</th>\n",
       "      <th>telecommuting</th>\n",
       "      <th>has_company_logo</th>\n",
       "      <th>has_questions</th>\n",
       "      <th>employment_type</th>\n",
       "      <th>required_experience</th>\n",
       "      <th>required_education</th>\n",
       "      <th>industry</th>\n",
       "      <th>function</th>\n",
       "      <th>fraudulent</th>\n",
       "    </tr>\n",
       "    <tr>\n",
       "      <th>job_id</th>\n",
       "      <th></th>\n",
       "      <th></th>\n",
       "      <th></th>\n",
       "      <th></th>\n",
       "      <th></th>\n",
       "      <th></th>\n",
       "      <th></th>\n",
       "      <th></th>\n",
       "      <th></th>\n",
       "      <th></th>\n",
       "      <th></th>\n",
       "      <th></th>\n",
       "      <th></th>\n",
       "      <th></th>\n",
       "      <th></th>\n",
       "      <th></th>\n",
       "      <th></th>\n",
       "    </tr>\n",
       "  </thead>\n",
       "  <tbody>\n",
       "    <tr>\n",
       "      <th>1</th>\n",
       "      <td>Marketing Intern</td>\n",
       "      <td>US, NY, New York</td>\n",
       "      <td>Marketing</td>\n",
       "      <td>NaN</td>\n",
       "      <td>We're Food52, and we've created a groundbreaki...</td>\n",
       "      <td>Food52, a fast-growing, James Beard Award-winn...</td>\n",
       "      <td>Experience with content management systems a m...</td>\n",
       "      <td>NaN</td>\n",
       "      <td>0</td>\n",
       "      <td>1</td>\n",
       "      <td>0</td>\n",
       "      <td>Other</td>\n",
       "      <td>Internship</td>\n",
       "      <td>NaN</td>\n",
       "      <td>NaN</td>\n",
       "      <td>Marketing</td>\n",
       "      <td>0</td>\n",
       "    </tr>\n",
       "    <tr>\n",
       "      <th>2</th>\n",
       "      <td>Customer Service - Cloud Video Production</td>\n",
       "      <td>NZ, , Auckland</td>\n",
       "      <td>Success</td>\n",
       "      <td>NaN</td>\n",
       "      <td>90 Seconds, the worlds Cloud Video Production ...</td>\n",
       "      <td>Organised - Focused - Vibrant - Awesome!Do you...</td>\n",
       "      <td>What we expect from you:Your key responsibilit...</td>\n",
       "      <td>What you will get from usThrough being part of...</td>\n",
       "      <td>0</td>\n",
       "      <td>1</td>\n",
       "      <td>0</td>\n",
       "      <td>Full-time</td>\n",
       "      <td>Not Applicable</td>\n",
       "      <td>NaN</td>\n",
       "      <td>Marketing and Advertising</td>\n",
       "      <td>Customer Service</td>\n",
       "      <td>0</td>\n",
       "    </tr>\n",
       "    <tr>\n",
       "      <th>3</th>\n",
       "      <td>Commissioning Machinery Assistant (CMA)</td>\n",
       "      <td>US, IA, Wever</td>\n",
       "      <td>NaN</td>\n",
       "      <td>NaN</td>\n",
       "      <td>Valor Services provides Workforce Solutions th...</td>\n",
       "      <td>Our client, located in Houston, is actively se...</td>\n",
       "      <td>Implement pre-commissioning and commissioning ...</td>\n",
       "      <td>NaN</td>\n",
       "      <td>0</td>\n",
       "      <td>1</td>\n",
       "      <td>0</td>\n",
       "      <td>NaN</td>\n",
       "      <td>NaN</td>\n",
       "      <td>NaN</td>\n",
       "      <td>NaN</td>\n",
       "      <td>NaN</td>\n",
       "      <td>0</td>\n",
       "    </tr>\n",
       "    <tr>\n",
       "      <th>4</th>\n",
       "      <td>Account Executive - Washington DC</td>\n",
       "      <td>US, DC, Washington</td>\n",
       "      <td>Sales</td>\n",
       "      <td>NaN</td>\n",
       "      <td>Our passion for improving quality of life thro...</td>\n",
       "      <td>THE COMPANY: ESRI – Environmental Systems Rese...</td>\n",
       "      <td>EDUCATION: Bachelor’s or Master’s in GIS, busi...</td>\n",
       "      <td>Our culture is anything but corporate—we have ...</td>\n",
       "      <td>0</td>\n",
       "      <td>1</td>\n",
       "      <td>0</td>\n",
       "      <td>Full-time</td>\n",
       "      <td>Mid-Senior level</td>\n",
       "      <td>Bachelor's Degree</td>\n",
       "      <td>Computer Software</td>\n",
       "      <td>Sales</td>\n",
       "      <td>0</td>\n",
       "    </tr>\n",
       "  </tbody>\n",
       "</table>\n",
       "</div>"
      ],
      "text/plain": [
       "                                            title            location  \\\n",
       "job_id                                                                  \n",
       "1                                Marketing Intern    US, NY, New York   \n",
       "2       Customer Service - Cloud Video Production      NZ, , Auckland   \n",
       "3         Commissioning Machinery Assistant (CMA)       US, IA, Wever   \n",
       "4               Account Executive - Washington DC  US, DC, Washington   \n",
       "\n",
       "       department salary_range  \\\n",
       "job_id                           \n",
       "1       Marketing          NaN   \n",
       "2         Success          NaN   \n",
       "3             NaN          NaN   \n",
       "4           Sales          NaN   \n",
       "\n",
       "                                          company_profile  \\\n",
       "job_id                                                      \n",
       "1       We're Food52, and we've created a groundbreaki...   \n",
       "2       90 Seconds, the worlds Cloud Video Production ...   \n",
       "3       Valor Services provides Workforce Solutions th...   \n",
       "4       Our passion for improving quality of life thro...   \n",
       "\n",
       "                                              description  \\\n",
       "job_id                                                      \n",
       "1       Food52, a fast-growing, James Beard Award-winn...   \n",
       "2       Organised - Focused - Vibrant - Awesome!Do you...   \n",
       "3       Our client, located in Houston, is actively se...   \n",
       "4       THE COMPANY: ESRI – Environmental Systems Rese...   \n",
       "\n",
       "                                             requirements  \\\n",
       "job_id                                                      \n",
       "1       Experience with content management systems a m...   \n",
       "2       What we expect from you:Your key responsibilit...   \n",
       "3       Implement pre-commissioning and commissioning ...   \n",
       "4       EDUCATION: Bachelor’s or Master’s in GIS, busi...   \n",
       "\n",
       "                                                 benefits  telecommuting  \\\n",
       "job_id                                                                     \n",
       "1                                                     NaN              0   \n",
       "2       What you will get from usThrough being part of...              0   \n",
       "3                                                     NaN              0   \n",
       "4       Our culture is anything but corporate—we have ...              0   \n",
       "\n",
       "        has_company_logo  has_questions employment_type required_experience  \\\n",
       "job_id                                                                        \n",
       "1                      1              0           Other          Internship   \n",
       "2                      1              0       Full-time      Not Applicable   \n",
       "3                      1              0             NaN                 NaN   \n",
       "4                      1              0       Full-time    Mid-Senior level   \n",
       "\n",
       "       required_education                   industry          function  \\\n",
       "job_id                                                                   \n",
       "1                     NaN                        NaN         Marketing   \n",
       "2                     NaN  Marketing and Advertising  Customer Service   \n",
       "3                     NaN                        NaN               NaN   \n",
       "4       Bachelor's Degree          Computer Software             Sales   \n",
       "\n",
       "        fraudulent  \n",
       "job_id              \n",
       "1                0  \n",
       "2                0  \n",
       "3                0  \n",
       "4                0  "
      ]
     },
     "execution_count": 153,
     "metadata": {},
     "output_type": "execute_result"
    }
   ],
   "source": [
    "data.head(4)"
   ]
  },
  {
   "cell_type": "code",
   "execution_count": 154,
   "metadata": {},
   "outputs": [
    {
     "name": "stdout",
     "output_type": "stream",
     "text": [
      "<class 'pandas.core.frame.DataFrame'>\n",
      "Int64Index: 17880 entries, 1 to 17880\n",
      "Data columns (total 17 columns):\n",
      " #   Column               Non-Null Count  Dtype \n",
      "---  ------               --------------  ----- \n",
      " 0   title                17880 non-null  object\n",
      " 1   location             17534 non-null  object\n",
      " 2   department           6333 non-null   object\n",
      " 3   salary_range         2868 non-null   object\n",
      " 4   company_profile      14572 non-null  object\n",
      " 5   description          17879 non-null  object\n",
      " 6   requirements         15185 non-null  object\n",
      " 7   benefits             10670 non-null  object\n",
      " 8   telecommuting        17880 non-null  int64 \n",
      " 9   has_company_logo     17880 non-null  int64 \n",
      " 10  has_questions        17880 non-null  int64 \n",
      " 11  employment_type      14409 non-null  object\n",
      " 12  required_experience  10830 non-null  object\n",
      " 13  required_education   9775 non-null   object\n",
      " 14  industry             12977 non-null  object\n",
      " 15  function             11425 non-null  object\n",
      " 16  fraudulent           17880 non-null  int64 \n",
      "dtypes: int64(4), object(13)\n",
      "memory usage: 2.5+ MB\n"
     ]
    }
   ],
   "source": [
    "data.info()"
   ]
  },
  {
   "cell_type": "markdown",
   "metadata": {},
   "source": [
    "##### Count NaN per column in %"
   ]
  },
  {
   "cell_type": "code",
   "execution_count": 155,
   "metadata": {},
   "outputs": [
    {
     "data": {
      "text/plain": [
       "salary_range           0.839597\n",
       "department             0.645805\n",
       "required_education     0.453300\n",
       "benefits               0.403244\n",
       "required_experience    0.394295\n",
       "function               0.361018\n",
       "industry               0.274217\n",
       "employment_type        0.194128\n",
       "company_profile        0.185011\n",
       "requirements           0.150727\n",
       "location               0.019351\n",
       "description            0.000056\n",
       "fraudulent             0.000000\n",
       "telecommuting          0.000000\n",
       "has_company_logo       0.000000\n",
       "has_questions          0.000000\n",
       "title                  0.000000\n",
       "dtype: float64"
      ]
     },
     "execution_count": 155,
     "metadata": {},
     "output_type": "execute_result"
    }
   ],
   "source": [
    "(data.isna().sum() / data.shape[0]).sort_values(ascending=False)"
   ]
  },
  {
   "cell_type": "code",
   "execution_count": 156,
   "metadata": {
    "scrolled": true
   },
   "outputs": [
    {
     "data": {
      "text/plain": [
       "title                  11231\n",
       "location                3105\n",
       "department              1337\n",
       "salary_range             874\n",
       "company_profile         1709\n",
       "description            14801\n",
       "requirements           11968\n",
       "benefits                6205\n",
       "telecommuting              2\n",
       "has_company_logo           2\n",
       "has_questions              2\n",
       "employment_type            5\n",
       "required_experience        7\n",
       "required_education        13\n",
       "industry                 131\n",
       "function                  37\n",
       "fraudulent                 2\n",
       "dtype: int64"
      ]
     },
     "execution_count": 156,
     "metadata": {},
     "output_type": "execute_result"
    }
   ],
   "source": [
    "data.nunique() "
   ]
  },
  {
   "cell_type": "code",
   "execution_count": 157,
   "metadata": {},
   "outputs": [
    {
     "name": "stdout",
     "output_type": "stream",
     "text": [
      "fraudulent == 1 count 866 or 4.84% from all data\n"
     ]
    }
   ],
   "source": [
    "print('fraudulent == 1 count {} or {:.2f}% from all data'.format(\n",
    "    data['fraudulent'].sum(), \n",
    "    data['fraudulent'].sum() / data.shape[0] * 100)\n",
    "     )\n",
    "\n",
    "positive = data[data['fraudulent'] == 1].shape[0]\n",
    "negative = data[data['fraudulent'] == 0].shape[0]\n",
    "\n",
    "class_weights = {0: 1, 1: negative / positive}"
   ]
  },
  {
   "cell_type": "code",
   "execution_count": 158,
   "metadata": {},
   "outputs": [],
   "source": [
    "raw_data = data.copy()"
   ]
  },
  {
   "cell_type": "markdown",
   "metadata": {},
   "source": [
    "## Feature mining"
   ]
  },
  {
   "cell_type": "markdown",
   "metadata": {},
   "source": [
    "### Location\n",
    "Extract country, state and city info from location columns"
   ]
  },
  {
   "cell_type": "code",
   "execution_count": 159,
   "metadata": {},
   "outputs": [],
   "source": [
    "data['location'] = data['location'].fillna(',,')\n",
    "data['location'] = data['location'].apply(lambda x: x if len(x.split(',')) >= 3 else x + ',,')\n",
    "\n",
    "# Add region features\n",
    "data['country'] = data['location'].apply(lambda x: x.split(',')[0])\n",
    "data['state'] = data['location'].apply(lambda x: x.split(',')[1])\n",
    "data['city'] = data['location'].apply(lambda x: x.split(',')[2])\n",
    "\n",
    "data.drop(columns=['location'], inplace=True)"
   ]
  },
  {
   "cell_type": "markdown",
   "metadata": {},
   "source": [
    "### Text data\n",
    "\n",
    "Extract word count and length fo the whole text description for each text column."
   ]
  },
  {
   "cell_type": "code",
   "execution_count": 160,
   "metadata": {},
   "outputs": [],
   "source": [
    "text_columns = ['title', 'company_profile', 'description', 'requirements', 'benefits']\n",
    "num_col = []\n",
    "name_col = []\n",
    "\n",
    "# Добавим признаки длины текста\n",
    "for col in text_columns:\n",
    "    data['len_' + col] = data[col].fillna('').apply(lambda x: len(x))\n",
    "    \n",
    "    num_col.append('len_' + col)\n",
    "    name_col.append(col + ' length')\n",
    "\n",
    "data.drop(columns=text_columns, inplace=True)"
   ]
  },
  {
   "cell_type": "markdown",
   "metadata": {},
   "source": [
    "## Visualization\n",
    "\n",
    "Let\\`s explore our data!"
   ]
  },
  {
   "cell_type": "code",
   "execution_count": 161,
   "metadata": {},
   "outputs": [],
   "source": [
    "positive = data[data['fraudulent'] == 1]\n",
    "negative = data[data['fraudulent'] == 0]\n",
    "\n",
    "fraud_c = '#f7714f'\n",
    "real_c = '#4fe9f7'"
   ]
  },
  {
   "cell_type": "code",
   "execution_count": 167,
   "metadata": {
    "scrolled": false
   },
   "outputs": [
    {
     "data": {
      "image/png": "[encoded data removed]",
      "text/plain": [
       "<Figure size 576x1152 with 5 Axes>"
      ]
     },
     "metadata": {
      "needs_background": "light"
     },
     "output_type": "display_data"
    }
   ],
   "source": [
    "fig, axes = plt.subplots(5, figsize=(8, 16))\n",
    "fig.tight_layout(pad=3.5)\n",
    "legend = {'len' : 'character length'}\n",
    "\n",
    "for ax, col, name in zip(axes.flat, num_col, name_col):\n",
    "    ax.hist(positive[positive[col] < positive[col].quantile(0.95)][col], bins=20, alpha=0.5, density=True, color=fraud_c)\n",
    "    ax.hist(negative[negative[col] < negative[col].quantile(0.95)][col], bins=20, alpha=0.5, density=True, color=real_c)\n",
    "    \n",
    "    ax.set_title('Distribution of {}'.format(name))\n",
    "    ax.legend(['Fruad', 'Real'])\n",
    "    \n",
    "    ax.set_xlim([- negative[col].quantile(0.95) / 70, negative[col].quantile(0.95)])\n",
    "    ax.set_xlabel(legend[col[:3]])"
   ]
  },
  {
   "cell_type": "markdown",
   "metadata": {},
   "source": [
    "#### There are 2 columns with a big difference: requirements and company_profile\n",
    "I suppose these features will have a big impact on fraudulent prediction model"
   ]
  },
  {
   "cell_type": "markdown",
   "metadata": {},
   "source": [
    "### Prepare cotegorical columns\n",
    "Use integer labels. Fill NaN with zero value."
   ]
  },
  {
   "cell_type": "code",
   "execution_count": 168,
   "metadata": {},
   "outputs": [],
   "source": [
    "categorical_col = [\n",
    "    'department', 'salary_range', 'employment_type', \n",
    "    'required_experience', 'required_education', \n",
    "    'industry', 'function',\n",
    "    'country', 'state', 'city'\n",
    "]\n",
    "\n",
    "for cat in categorical_col:\n",
    "    val = set(data[cat].values)\n",
    "    category_mapping = dict(zip(val, range(len(val))))\n",
    "    \n",
    "    data[cat] = data[cat].fillna(np.nan).apply(lambda x: category_mapping[x])"
   ]
  },
  {
   "cell_type": "markdown",
   "metadata": {},
   "source": [
    "### Pearson Correlation with target value"
   ]
  },
  {
   "cell_type": "code",
   "execution_count": 169,
   "metadata": {},
   "outputs": [
    {
     "data": {
      "image/png": "[encoded data removed]",
      "text/plain": [
       "<Figure size 720x360 with 1 Axes>"
      ]
     },
     "metadata": {
      "needs_background": "light"
     },
     "output_type": "display_data"
    }
   ],
   "source": [
    "plt.figure(figsize=(10,5))\n",
    "\n",
    "cor = data.corr()\n",
    "cor = abs(cor['fraudulent'].sort_values(ascending=False).iloc[1:])\n",
    "\n",
    "plt.bar(np.arange(cor.shape[0]), cor)\n",
    "plt.title(\"Absolute Pearson correlation\")\n",
    "plt.xticks(np.arange(cor.shape[0]),cor.index, rotation=90)\n",
    "plt.show()"
   ]
  },
  {
   "cell_type": "markdown",
   "metadata": {},
   "source": [
    "#### There are seme features whiich has linear dependency with target value. For example has_company_logo, has_questions and company_profile features.\n",
    "\n",
    "#### Lets calculate more precisely feature importance."
   ]
  },
  {
   "cell_type": "code",
   "execution_count": 197,
   "metadata": {},
   "outputs": [],
   "source": [
    "from sklearn.linear_model import ElasticNet\n",
    "from sklearn.linear_model import LogisticRegression\n",
    "from sklearn.model_selection import GridSearchCV\n",
    "from sklearn.model_selection import train_test_split\n",
    "from sklearn.preprocessing import StandardScaler\n",
    "from catboost import CatBoostClassifier\n",
    "\n",
    "from sklearn.metrics import precision_recall_curve\n",
    "from sklearn.metrics import auc\n",
    "\n",
    "def train_and_evaluate_model(\n",
    "    classifier, x_train_, y_train_, x_test_, y_test_):\n",
    "    model = classifier\n",
    "    \n",
    "    model.fit(x_train_, y_train_)\n",
    "    predicted = model.predict_proba(x_test_)[:, 1]\n",
    "    \n",
    "    auc_score = calculate_auc_pr(y_test_, predicted)\n",
    "    \n",
    "    return predicted, model, auc_score\n",
    "\n",
    "def calculate_auc_pr(test, predicted_proba):\n",
    "    precision, recall, _ = precision_recall_curve(test, predicted_proba)\n",
    "    return auc(recall, precision)"
   ]
  },
  {
   "cell_type": "code",
   "execution_count": 296,
   "metadata": {},
   "outputs": [],
   "source": [
    "target = data['fraudulent']\n",
    "features = data.drop(columns=['fraudulent'])\n",
    "importance = {}\n",
    "\n",
    "x_train, x_test, y_train, y_test = train_test_split(\n",
    "        features, target, test_size=0.3, random_state=0\n",
    "    ) # Split the data\n",
    "\n",
    "for feature in data.drop(columns=['fraudulent']).columns:\n",
    "    x_train_current = x_train[feature].values[:, None]\n",
    "    x_test_current = x_test[feature].values[:, None]\n",
    "    \n",
    "    _, _, score = train_and_evaluate_model(\n",
    "        CatBoostClassifier(\n",
    "            num_trees = 10,\n",
    "            verbose=0, \n",
    "            class_weights=list(class_weights.values())\n",
    "        ),\n",
    "        x_train_current,\n",
    "        y_train,\n",
    "        x_test_current,\n",
    "        y_test\n",
    "    )\n",
    "    \n",
    "    importance[feature] = score"
   ]
  },
  {
   "cell_type": "markdown",
   "metadata": {},
   "source": [
    "#### Score per model trained only with one feature"
   ]
  },
  {
   "cell_type": "code",
   "execution_count": 352,
   "metadata": {},
   "outputs": [
    {
     "data": {
      "image/png": "[encoded data removed]",
      "text/plain": [
       "<Figure size 792x288 with 1 Axes>"
      ]
     },
     "metadata": {
      "needs_background": "light"
     },
     "output_type": "display_data"
    }
   ],
   "source": [
    "importance = dict(sorted(importance.items(), key=lambda item: item[1], reverse=True))\n",
    "\n",
    "plt.figure(figsize=(11, 4))\n",
    "\n",
    "plt.bar(np.arange(len(importance)), importance.values(), color='coral', alpha=0.7)\n",
    "plt.xticks(np.arange(len(importance)), importance.keys(), rotation=80)\n",
    "plt.ylabel('AUC-PR')\n",
    "plt.title('Feature importance based on single-feature model training', fontsize=18)\n",
    "plt.savefig('img/single_feature.jpg',  bbox_inches = 'tight')\n",
    "plt.show()"
   ]
  },
  {
   "cell_type": "markdown",
   "metadata": {},
   "source": [
    "There is feature len_company_profile which refers to the text columns. It represents only number of  characters in this columns. Lets try to add tf-idf representation for this column. And compare results with and without tf-idf on company_profile."
   ]
  },
  {
   "cell_type": "code",
   "execution_count": 272,
   "metadata": {},
   "outputs": [],
   "source": [
    "from sklearn.feature_extraction.text import TfidfVectorizer\n",
    "\n",
    "docs = raw_data['company_profile'].fillna('').apply(lambda x: x.lower())\n",
    "\n",
    "vectorizer = TfidfVectorizer(stop_words='english', max_features=2000)"
   ]
  },
  {
   "cell_type": "code",
   "execution_count": 286,
   "metadata": {},
   "outputs": [],
   "source": [
    "X = vectorizer.fit_transform(docs)\n",
    "X = pd.DataFrame(X.toarray())\n",
    "X.index = data.index"
   ]
  },
  {
   "cell_type": "code",
   "execution_count": 293,
   "metadata": {},
   "outputs": [
    {
     "data": {
      "text/plain": [
       "(17880, 2019)"
      ]
     },
     "execution_count": 293,
     "metadata": {},
     "output_type": "execute_result"
    }
   ],
   "source": [
    "tf_idf_data = pd.concat([data, X], axis=1)\n",
    "tf_idf_data.shape"
   ]
  },
  {
   "cell_type": "markdown",
   "metadata": {},
   "source": [
    "# Predict the fraudulent"
   ]
  },
  {
   "cell_type": "markdown",
   "metadata": {},
   "source": [
    "### As mentioned before, the dataset has unbalanced classes."
   ]
  },
  {
   "cell_type": "code",
   "execution_count": 202,
   "metadata": {},
   "outputs": [],
   "source": [
    "scaler = StandardScaler()\n",
    "scaled = scaler.fit_transform(features)\n",
    "\n",
    "assert scaled.mean() < 1e-6 and (scaled.std() - 1) < 1e-6\n",
    "\n",
    "sc_x_train, sc_x_test, sc_y_train, sc_y_test = train_test_split(features, target, test_size=0.3, random_state=0)"
   ]
  },
  {
   "cell_type": "markdown",
   "metadata": {},
   "source": [
    "#### LogisticRegression (baseline)"
   ]
  },
  {
   "cell_type": "code",
   "execution_count": 204,
   "metadata": {},
   "outputs": [
    {
     "name": "stdout",
     "output_type": "stream",
     "text": [
      "AUC-PR for LogisticRegression(class_weight='balanced', solver='liblinear'): 0.1873\n"
     ]
    }
   ],
   "source": [
    "predicted, LogReg, score = train_and_evaluate_model(\n",
    "    LogisticRegression(class_weight='balanced',  solver='liblinear'),\n",
    "    x_train,\n",
    "    y_train,\n",
    "    x_test,\n",
    "    y_test\n",
    ")\n",
    "\n",
    "print(\"AUC-PR for {}: {:.4f}\".format(LogReg, score))"
   ]
  },
  {
   "cell_type": "markdown",
   "metadata": {},
   "source": [
    "Got only 0.18 AUC-PR"
   ]
  },
  {
   "cell_type": "markdown",
   "metadata": {},
   "source": [
    "#### Gradient boosting"
   ]
  },
  {
   "cell_type": "code",
   "execution_count": 297,
   "metadata": {},
   "outputs": [
    {
     "name": "stdout",
     "output_type": "stream",
     "text": [
      "AUC-PR for CatBoostClassifier: 0.7738\n"
     ]
    }
   ],
   "source": [
    "# Catboost\n",
    "catboost_pred, catboost_model, score = train_and_evaluate_model(\n",
    "    CatBoostClassifier(\n",
    "        num_trees = 100,\n",
    "        verbose=0, \n",
    "        class_weights=list(class_weights.values())\n",
    "    ),\n",
    "    x_train,\n",
    "    y_train,\n",
    "    x_test,\n",
    "    y_test\n",
    ")\n",
    "\n",
    "print(\"AUC-PR for {}: {:.4f}\".format('CatBoostClassifier', score))"
   ]
  },
  {
   "cell_type": "code",
   "execution_count": 305,
   "metadata": {},
   "outputs": [
    {
     "name": "stdout",
     "output_type": "stream",
     "text": [
      "AUC-PR for CatBoostClassifier: 0.8585\n",
      "Wall time: 5.77 s\n"
     ]
    }
   ],
   "source": [
    "%%time\n",
    "# CatBoost on tf-idf\n",
    "features = tf_idf_data.drop(columns=['fraudulent'])\n",
    "\n",
    "x_train, x_test, y_train, y_test = train_test_split(\n",
    "        features, target, test_size=0.3, random_state=0\n",
    "    ) # Split the data\n",
    "\n",
    "tf_idf_pred, tf_idf_model, score = train_and_evaluate_model(\n",
    "    CatBoostClassifier(\n",
    "        num_trees=100,\n",
    "        verbose=0, \n",
    "        class_weights=list(class_weights.values()),\n",
    "    ),\n",
    "    x_train,\n",
    "    y_train,\n",
    "    x_test,\n",
    "    y_test\n",
    ")\n",
    "\n",
    "print(\"AUC-PR for {}: {:.4f}\".format('CatBoostClassifier', score))"
   ]
  },
  {
   "cell_type": "markdown",
   "metadata": {},
   "source": [
    "#### What a great performace!\n",
    "Get extra 0.08 to AUC-PR score with tf-idf encoding."
   ]
  },
  {
   "cell_type": "markdown",
   "metadata": {},
   "source": [
    "### Try GridSearch to get best params"
   ]
  },
  {
   "cell_type": "code",
   "execution_count": 307,
   "metadata": {},
   "outputs": [
    {
     "name": "stdout",
     "output_type": "stream",
     "text": [
      "Wall time: 2min 29s\n"
     ]
    },
    {
     "data": {
      "text/plain": [
       "GridSearchCV(estimator=<catboost.core.CatBoostClassifier object at 0x0000018C1AF3A160>,\n",
       "             param_grid={'class_weights': [[1, 19.64665127020785]],\n",
       "                         'depth': [4, 6], 'num_trees': [75, 100, 150],\n",
       "                         'verbose': [0]})"
      ]
     },
     "execution_count": 307,
     "metadata": {},
     "output_type": "execute_result"
    }
   ],
   "source": [
    "%%time\n",
    "params = {\n",
    "    'num_trees': [75, 100, 150], \n",
    "    'depth': [4, 6], \n",
    "    'verbose': [0],\n",
    "    'class_weights': [list(class_weights.values())],\n",
    "}\n",
    "\n",
    "grid_search = GridSearchCV(CatBoostClassifier(), params)\n",
    "grid_search.fit(x_train, y_train)"
   ]
  },
  {
   "cell_type": "code",
   "execution_count": 316,
   "metadata": {},
   "outputs": [
    {
     "name": "stdout",
     "output_type": "stream",
     "text": [
      "AUC-PR for CatBoostClassifier: 0.8768\n"
     ]
    }
   ],
   "source": [
    "best_score = calculate_auc_pr(\n",
    "      y_test,\n",
    "    grid_search.best_estimator_.predict_proba(x_test)[:,1]\n",
    ")\n",
    "\n",
    "print(\"AUC-PR for {}: {:.4f}\".format('CatBoostClassifier', best_score))"
   ]
  },
  {
   "cell_type": "markdown",
   "metadata": {},
   "source": [
    "Great! 0.02 to the test score.\n",
    "\n",
    "#### Let's save the best model and processed data"
   ]
  },
  {
   "cell_type": "code",
   "execution_count": 327,
   "metadata": {},
   "outputs": [],
   "source": [
    "grid_search.best_estimator_.save_model('model.cbm')"
   ]
  },
  {
   "cell_type": "code",
   "execution_count": 329,
   "metadata": {},
   "outputs": [],
   "source": [
    "catboost_model.save_model('small_model.cbm')"
   ]
  },
  {
   "cell_type": "code",
   "execution_count": 322,
   "metadata": {},
   "outputs": [],
   "source": [
    "tf_idf_data.to_csv('processed.csv')"
   ]
  }
 ],
 "metadata": {
  "kernelspec": {
   "display_name": "Python 3",
   "language": "python",
   "name": "python3"
  },
  "language_info": {
   "codemirror_mode": {
    "name": "ipython",
    "version": 3
   },
   "file_extension": ".py",
   "mimetype": "text/x-python",
   "name": "python",
   "nbconvert_exporter": "python",
   "pygments_lexer": "ipython3",
   "version": "3.8.3"
  }
 },
 "nbformat": 4,
 "nbformat_minor": 4
}
